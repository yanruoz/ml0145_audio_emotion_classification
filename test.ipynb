{
  "nbformat": 4,
  "nbformat_minor": 0,
  "metadata": {
    "colab": {
      "provenance": [],
      "include_colab_link": true
    },
    "kernelspec": {
      "name": "python3",
      "display_name": "Python 3"
    },
    "language_info": {
      "name": "python"
    }
  },
  "cells": [
    {
      "cell_type": "markdown",
      "metadata": {
        "id": "view-in-github",
        "colab_type": "text"
      },
      "source": [
        "<a href=\"https://colab.research.google.com/github/yanruoz/ml0145_audio_emotion_classification/blob/main/test.ipynb\" target=\"_parent\"><img src=\"https://colab.research.google.com/assets/colab-badge.svg\" alt=\"Open In Colab\"/></a>"
      ]
    },
    {
      "cell_type": "code",
      "execution_count": null,
      "metadata": {
        "id": "EwhgQXLPc-S1"
      },
      "outputs": [],
      "source": [
        "import librosa\n",
        "import os\n",
        "import numpy as np\n",
        "import matplotlib.pyplot as plt\n",
        "import seaborn as sns\n",
        "from sklearn.metrics import confusion_matrix"
      ]
    },
    {
      "cell_type": "code",
      "source": [
        "!git clone https://github.com/wendianaxu/speech-emotion-recognition.git"
      ],
      "metadata": {
        "id": "zJ3NhGjceXB4",
        "colab": {
          "base_uri": "https://localhost:8080/"
        },
        "outputId": "c02d69ff-a350-46c7-e02e-d785597493c9"
      },
      "execution_count": null,
      "outputs": [
        {
          "output_type": "stream",
          "name": "stdout",
          "text": [
            "Cloning into 'speech-emotion-recognition'...\n",
            "remote: Enumerating objects: 1497, done.\u001b[K\n",
            "remote: Counting objects: 100% (28/28), done.\u001b[K\n",
            "remote: Compressing objects: 100% (17/17), done.\u001b[K\n",
            "remote: Total 1497 (delta 5), reused 25 (delta 5), pack-reused 1469\u001b[K\n",
            "Receiving objects: 100% (1497/1497), 213.82 MiB | 20.42 MiB/s, done.\n",
            "Resolving deltas: 100% (244/244), done.\n",
            "Updating files: 100% (2883/2883), done.\n"
          ]
        }
      ]
    },
    {
      "cell_type": "code",
      "source": [
        "from google.colab import drive\n",
        "drive.mount('/content/drive')"
      ],
      "metadata": {
        "id": "7gLHkEMSf-za"
      },
      "execution_count": null,
      "outputs": []
    },
    {
      "cell_type": "code",
      "source": [
        "# import data\n",
        "data_path = \"/content/speech-emotion-recognition/RAVDESS_data/\"\n",
        "test_file = \"/content/speech-emotion-recognition/RAVDESS_data/Actor_01/03-01-01-01-01-01-01.wav\"\n",
        "n_mfcc = 13 # common choice\n",
        "\n",
        "def load_file(path):\n",
        "  '''\n",
        "  Load one audio file and return an 1D array containing its mfccs averaged across time\n",
        "  '''\n",
        "  audio, sampling_rate = librosa.load(path, sr=22050, duration=None)\n",
        "  mfccs = librosa.feature.mfcc(y=audio, sr=sampling_rate, n_mfcc=n_mfcc) # extract MFCC matrix (cols = coefficients, rows = time)\n",
        "  features = np.mean(mfccs.T, axis=0)  # condense MFCC matrix into 1D array, averaging each coefficient across time\n",
        "  return features\n",
        "\n",
        "test_mfccs = load_file(test_file)\n",
        "\n",
        "# visualize mfccs\n",
        "plt.figure(figsize=(25, 10))\n",
        "librosa.display.specshow(test_mfccs, \n",
        "                         x_axis=\"Time\", \n",
        "                         sr=sr)\n",
        "plt.colorbar(format=\"%+2.f\")\n",
        "plt.show()\n"
      ],
      "metadata": {
        "id": "GNAcBeb1eV-U",
        "colab": {
          "base_uri": "https://localhost:8080/"
        },
        "outputId": "0aeed207-01b9-4297-b8d0-9905d03d681b"
      },
      "execution_count": null,
      "outputs": [
        {
          "output_type": "execute_result",
          "data": {
            "text/plain": [
              "array([-6.9779260e+02,  5.4890041e+01,  6.6346717e-01,  1.2435785e+01,\n",
              "        7.7339525e+00,  5.3074998e-01, -3.2166307e+00, -3.1593947e+00,\n",
              "       -1.0977551e+01, -2.8487110e+00,  8.1529766e-01, -3.0370672e+00,\n",
              "        1.9554471e+00], dtype=float32)"
            ]
          },
          "metadata": {},
          "execution_count": 41
        }
      ]
    },
    {
      "cell_type": "code",
      "source": [
        "fig, ax = plt.subplots(nrows=2, sharex=True)\n",
        "img = librosa.display.specshow(librosa.power_to_db(mfccs, ref=np.max),\n",
        "                               x_axis='time', y_axis='mel', fmax=8000,\n",
        "                               ax=ax[0])\n",
        "fig.colorbar(img, ax=[ax[0]])\n",
        "ax[0].set(title='Mel spectrogram')\n",
        "ax[0].label_outer()\n",
        "img = librosa.display.specshow(mfccs, x_axis='time', ax=ax[1])\n",
        "fig.colorbar(img, ax=[ax[1]])\n",
        "ax[1].set(title='MFCC')"
      ],
      "metadata": {
        "id": "A29ohJbTteeI"
      },
      "execution_count": null,
      "outputs": []
    },
    {
      "cell_type": "code",
      "source": [
        "def preprocess_data(path):\n",
        "  '''\n",
        "  Preprocess data in all folders within the dataset. \n",
        "  '''\n",
        "  X = []\n",
        "  y = []\n",
        "  for folder in os.listdir(path): # each folder = one actor\n",
        "      for file in os.listdir(os.path.join(path, folder)):\n",
        "          if file.endswith('.wav'):\n",
        "              emotion = file.split('-')[2] # get emotion label\n",
        "              if int(emotion) == 1:\n",
        "                  label = 'Neutral'\n",
        "              elif int(emotion) == 2:\n",
        "                  label = 'Calm'\n",
        "              elif int(emotion) == 3:\n",
        "                  label = 'Happy'\n",
        "              elif int(emotion) == 4:\n",
        "                  label = 'Sad'\n",
        "              elif int(emotion) == 5:\n",
        "                  label = 'Angry'\n",
        "              elif int(emotion) == 6:\n",
        "                  label = 'Fearful'\n",
        "              elif int(emotion) == 7:\n",
        "                  label = 'Disgust'\n",
        "              elif int(emotion) == 8:\n",
        "                  label = 'Surprised'\n",
        "              else:\n",
        "                  label = 'UNK'\n",
        "                  \n",
        "              file_path = os.path.join(path, folder, file)\n",
        "              features = load_file(file_path)\n",
        "              X.append(features)\n",
        "              y.append(label)\n",
        "  return np.array(X), np.array(y)\n",
        "\n",
        "X, y = preprocess_data(data_path)\n",
        "print(\"Shape of X:\", X.shape)\n",
        "print(\"Shape of y:\", y.shape)"
      ],
      "metadata": {
        "colab": {
          "base_uri": "https://localhost:8080/"
        },
        "id": "12Sp_TsXp52s",
        "outputId": "3e726a0b-75be-4c6b-9cdf-6425bc0644c0"
      },
      "execution_count": null,
      "outputs": [
        {
          "output_type": "stream",
          "name": "stdout",
          "text": [
            "Shape of X: (1440, 13)\n",
            "Shape of y: (1440,)\n"
          ]
        }
      ]
    },
    {
      "cell_type": "code",
      "source": [
        "Neutral = []\n",
        "Calm = []\n",
        "Happy = []\n",
        "Sad = []\n",
        "Angry = []\n",
        "Fearful = []\n",
        "Disgust = []\n",
        "Surprised = []\n",
        "UNK = []\n",
        "\n",
        "def emo_classification(X, y):\n",
        "  for i in range(X.shape[0]):\n",
        "    if y[i] == 'Neutral':\n",
        "      Neutral.append(X[i])\n",
        "    elif y[i] == 'Calm':\n",
        "      Calm.append(X[i])\n",
        "    elif y[i] == 'Happy':\n",
        "      Happy.append(X[i])\n",
        "    elif y[i] == 'Sad':\n",
        "      Sad.append(X[i])\n",
        "    elif y[i] == 'Angry':\n",
        "      Angry.append(X[i])\n",
        "    elif y[i] == 'Fearful':\n",
        "      Fearful.append(X[i])\n",
        "    elif y[i] == 'Disgust':\n",
        "      Disgust.append(X[i])\n",
        "    elif y[i] == 'Surprised':\n",
        "      Surprised.append(X[i])\n",
        "    elif y[i] == 'UNK':\n",
        "      UNK.append(X[i])\n"
      ],
      "metadata": {
        "id": "8hvWd10qvmD7"
      },
      "execution_count": null,
      "outputs": []
    },
    {
      "cell_type": "code",
      "source": [
        "emo_classification(X, y)"
      ],
      "metadata": {
        "id": "AFcp12c7vs8N"
      },
      "execution_count": null,
      "outputs": []
    },
    {
      "cell_type": "code",
      "source": [
        "def visualize_by_statement(path, intensity = '01', repetition = '01', actor = '01'):\n",
        "  '''\n",
        "   \n",
        "  '''\n",
        "  X = []\n",
        "  y = []\n",
        "  color = ['red', 'blue', 'green', 'yellow', 'purple', 'orange', 'cyan', 'magenta']\n",
        "  x_values = range(13)\n",
        "  for file in os.listdir(os.path.join(path, 'Actor_'+ actor)):\n",
        "      if file.split('-')[3] == intensity and file.split('-')[5] == repetition:\n",
        "          emotion = file.split('-')[2] # get emotion label\n",
        "          if int(emotion) == 1:\n",
        "              mfcc = load_file(os.path.join(path, 'Actor_'+ actor, file))\n",
        "              plt.scatter(x_values, mfcc, color = color[0])\n",
        "          elif int(emotion) == 2:\n",
        "              mfcc = load_file(os.path.join(path, 'Actor_'+ actor, file))\n",
        "              plt.scatter(x_values, mfcc, color = color[1])\n",
        "          elif int(emotion) == 3:\n",
        "              mfcc = load_file(os.path.join(path, 'Actor_'+ actor, file))\n",
        "              plt.scatter(x_values, mfcc, color = color[2])\n",
        "          elif int(emotion) == 4:\n",
        "              mfcc = load_file(os.path.join(path, 'Actor_'+ actor, file))\n",
        "              plt.scatter(x_values, mfcc, color = color[3])\n",
        "          elif int(emotion) == 5:\n",
        "              mfcc = load_file(os.path.join(path, 'Actor_'+ actor, file))\n",
        "              plt.scatter(x_values, mfcc, color = color[4])\n",
        "          elif int(emotion) == 6:\n",
        "              mfcc = load_file(os.path.join(path, 'Actor_'+ actor, file))\n",
        "              plt.scatter(x_values, mfcc, color = color[5])\n",
        "          elif int(emotion) == 7:\n",
        "              mfcc = load_file(os.path.join(path, 'Actor_'+ actor, file))\n",
        "              plt.scatter(x_values, mfcc, color = color[6])\n",
        "          elif int(emotion) == 8:\n",
        "              mfcc = load_file(os.path.join(path, 'Actor_'+ actor, file))\n",
        "              plt.scatter(x_values, mfcc, color = color[7])\n",
        "  \n",
        "  plt.xlabel('Features')\n",
        "  plt.ylabel('MFCC Values')\n",
        "  plt.legend()\n",
        "  plt.show()"
      ],
      "metadata": {
        "id": "eDLVnbxx0VXA"
      },
      "execution_count": 78,
      "outputs": []
    },
    {
      "cell_type": "code",
      "source": [
        "visualize_by_statement(data_path)"
      ],
      "metadata": {
        "colab": {
          "base_uri": "https://localhost:8080/",
          "height": 488
        },
        "id": "mqvwKi6b7eWl",
        "outputId": "a1bce460-9e0e-4eb2-90f5-b74bf703b573"
      },
      "execution_count": 80,
      "outputs": [
        {
          "output_type": "stream",
          "name": "stderr",
          "text": [
            "WARNING:matplotlib.legend:No artists with labels found to put in legend.  Note that artists whose label start with an underscore are ignored when legend() is called with no argument.\n"
          ]
        },
        {
          "output_type": "display_data",
          "data": {
            "text/plain": [
              "<Figure size 640x480 with 1 Axes>"
            ],
            "image/png": "[encoded data removed]"
          },
          "metadata": {}
        }
      ]
    }
  ]
}